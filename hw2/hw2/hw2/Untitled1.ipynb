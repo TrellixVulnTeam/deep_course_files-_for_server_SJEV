{
 "cells": [
  {
   "cell_type": "code",
   "execution_count": null,
   "id": "c4b3f1e9-0fb1-463c-b3a3-38f85fbb8332",
   "metadata": {},
   "outputs": [],
   "source": [
    "        N = len(self.channels)\n",
    "        P = self.pool_every\n",
    "        kernel_size=self.conv_params['kernel_size']\n",
    "        stride=self.conv_params['stride']\n",
    "        padding=self.conv_params['padding']\n",
    "        channels = [[in_channels]] \n",
    "        channels.append(self.channels)\n",
    "        channels = [val for sublist in channels for val in sublist]\n",
    "        out_h = in_h\n",
    "        out_w = in_w\n",
    "        \n",
    "        if (self.activation_type == 'lrelu'):\n",
    "            activation = ACTIVATIONS[self.activation_type](self.activation_params['negative_slope'])\n",
    "        elif (self.activation_type == 'relu'):\n",
    "            activation = ACTIVATIONS[self.activation_type]()        \n",
    "        else:\n",
    "            raise ValueError(\"Unsupported activation type\")\n",
    "            \n",
    "        for layer_idx,(in_channel,output_channel)in enumerate(zip(channels[:-1],channels[1:])):\n",
    "            # print(f'{in_channel=},{output_channel=}')\n",
    "            layers += [\n",
    "            nn.Conv2d(in_channels=in_channel, \n",
    "                      out_channels=output_channel, \n",
    "                      kernel_size=kernel_size, stride=stride, padding=padding),\n",
    "                        activation,\n",
    "                        ]\n",
    "            # print(f'{out_h},{out_w}')\n",
    "            out_h = int(np.floor(( out_h + 2*padding - 1*(kernel_size-1)-1)/stride + 1))\n",
    "            out_w = int(np.floor(( out_w + 2*padding - 1*(kernel_size-1)-1)/stride + 1))\n",
    "            if (layer_idx+1)%P == 0:\n",
    "                layers += [POOLINGS[self.pooling_type](self.pooling_params['kernel_size'])]\n",
    "                out_h =  int(np.floor(out_h/self.pooling_params['kernel_size']))\n",
    "                out_w =  int(np.floor(out_w/self.pooling_params['kernel_size']))"
   ]
  }
 ],
 "metadata": {
  "kernelspec": {
   "display_name": "Python 3 (ipykernel)",
   "language": "python",
   "name": "python3"
  },
  "language_info": {
   "codemirror_mode": {
    "name": "ipython",
    "version": 3
   },
   "file_extension": ".py",
   "mimetype": "text/x-python",
   "name": "python",
   "nbconvert_exporter": "python",
   "pygments_lexer": "ipython3",
   "version": "3.8.12"
  }
 },
 "nbformat": 4,
 "nbformat_minor": 5
}
